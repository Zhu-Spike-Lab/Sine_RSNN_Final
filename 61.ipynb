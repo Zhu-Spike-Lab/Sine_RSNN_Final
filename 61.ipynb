{
 "cells": [
  {
   "cell_type": "code",
   "execution_count": 1,
   "id": "fd501689-2650-4b2c-96a6-865a3742b8cc",
   "metadata": {
    "tags": []
   },
   "outputs": [],
   "source": [
    "import os\n",
    "import torch\n",
    "import snntorch as snn\n",
    "import matplotlib.pyplot as plt\n",
    "from snntorch import surrogate\n",
    "from snntorch import spikegen\n",
    "from snntorch import functional\n",
    "from snntorch import LIF\n",
    "from snntorch import spikeplot as splt\n",
    "import pandas as pd\n",
    "import numpy as np\n",
    "from torch.utils.data import Dataset, DataLoader\n",
    "import math\n",
    "from warnings import warn\n",
    "import torch.nn as nn\n",
    "import csv"
   ]
  },
  {
   "cell_type": "code",
   "execution_count": 2,
   "id": "7989c757-6655-4194-9dad-2d29f6c3eb9d",
   "metadata": {
    "tags": []
   },
   "outputs": [],
   "source": [
    "from classes.Sine_Wave_Dataset import SineWave6\n",
    "from classes.Custom_Loss import CustomLoss_task_rate\n",
    "from classes import RSNN2,train1"
   ]
  },
  {
   "cell_type": "code",
   "execution_count": null,
   "id": "2df1e422-a869-40cd-a02d-f6a8cfb10af4",
   "metadata": {
    "tags": []
   },
   "outputs": [],
   "source": [
    "dataset6 = SineWave6.SineWaveDataset6('train_data/train_data_const_amp.csv')\n",
    "dataloader6 = DataLoader(dataset6, batch_size=25, shuffle=True)\n",
    "loss_task_rate = CustomLoss_task_rate.CustomLoss_task_rate()\n",
    "net_61 = RSNN2.RSNN2()\n",
    "optimizer_61 = torch.optim.Adam(net_61.parameters(),lr=0.03)\n",
    "num_epochs = 500\n",
    "num_timesteps = 300\n",
    "\n",
    "train1.train_model([net_61, optimizer_61,dataloader6,6, loss_task_rate, 1, 500, num_timesteps])\n",
    "\n",
    "\n",
    "\n"
   ]
  },
  {
   "cell_type": "code",
   "execution_count": null,
   "id": "15c27693-faf8-4329-9909-7441c03fee9c",
   "metadata": {},
   "outputs": [],
   "source": []
  }
 ],
 "metadata": {
  "kernelspec": {
   "display_name": "Python (rsnn_env)",
   "language": "python",
   "name": "rsnn_env"
  },
  "language_info": {
   "codemirror_mode": {
    "name": "ipython",
    "version": 3
   },
   "file_extension": ".py",
   "mimetype": "text/x-python",
   "name": "python",
   "nbconvert_exporter": "python",
   "pygments_lexer": "ipython3",
   "version": "3.8.19"
  }
 },
 "nbformat": 4,
 "nbformat_minor": 5
}
