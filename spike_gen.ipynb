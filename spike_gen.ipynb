{
 "cells": [
  {
   "cell_type": "code",
   "execution_count": 1,
   "metadata": {},
   "outputs": [],
   "source": [
    "import math\n",
    "import matplotlib.pyplot as plt\n",
    "import numpy as np\n",
    "import pandas as pd"
   ]
  },
  {
   "cell_type": "code",
   "execution_count": 2,
   "metadata": {},
   "outputs": [],
   "source": [
    "\n",
    "def generate_sinusoidal_wave(amplitude, period, num_timesteps):\n",
    "    \"\"\"\n",
    "    Generates a sinusoidal wave with the given amplitude and period.\n",
    "\n",
    "    Args:\n",
    "    - amplitude (float): The amplitude of the wave.\n",
    "    - period (float): The period of the wave.\n",
    "    - num_samples (int): The number of samples (time steps) to generate.\n",
    "\n",
    "    Returns:\n",
    "    - List[float]: A list of y-values representing the sinusoidal wave.\n",
    "    \"\"\"\n",
    "    wave = []\n",
    "    for i in range(num_timesteps):\n",
    "        # Calculate the phase angle\n",
    "        phase = (2 * math.pi * i) / period\n",
    "        # Calculate the y-value using the sinusoidal function\n",
    "        y_value = amplitude * math.sin(phase)\n",
    "        r_y_value = round(y_value)\n",
    "        wave.append(r_y_value)\n",
    "        # amplitude_array = np.full(num_timesteps, amplitude)\n",
    "        # period_array = np.full(num_timesteps, period)\n",
    "    return wave\n",
    "    "
   ]
  },
  {
   "cell_type": "code",
   "execution_count": 3,
   "metadata": {},
   "outputs": [],
   "source": [
    "def generate_training_data_hpc(num_bins):\n",
    "    \"\"\"\n",
    "    Generates training data for the spiking neural network.\n",
    "\n",
    "    Args:\n",
    "    - num_samples (int): The number of samples (time steps) for each wave.\n",
    "    - num_bins (int): The number of different waves to generate.\n",
    "\n",
    "    Returns:\n",
    "    - pd.DataFrame: DataFrame containing amplitude arrays, period arrays, and waves.\n",
    "    \"\"\"\n",
    "    data = []\n",
    "    for _ in range(1000):\n",
    "        amplitude = 40 # Random amplitude between 1 and 10\n",
    "        period = int(np.random.uniform(40, 100))     # Random period between 1 and 10\n",
    "        # period = 80\n",
    "        wave = generate_sinusoidal_wave(amplitude, period, num_bins)\n",
    "        data.append({\n",
    "            'amplitude': amplitude,\n",
    "            'period': period,\n",
    "            'wave': wave\n",
    "        })\n",
    "\n",
    "    # Convert list of dictionaries to DataFrame\n",
    "    df = pd.DataFrame(data)\n",
    "    df.to_csv('train_data_const_amp.csv', index=False)\n",
    "    return df"
   ]
  },
  {
   "cell_type": "code",
   "execution_count": 4,
   "metadata": {},
   "outputs": [],
   "source": [
    "# #300 timesteps, 1000 training data\n",
    "df = generate_training_data_hpc(300)"
   ]
  },
  {
   "cell_type": "code",
   "execution_count": 5,
   "metadata": {},
   "outputs": [],
   "source": [
    "# def generate_training_data_local(num_bins):\n",
    "#     \"\"\"\n",
    "#     Generates training data for the spiking neural network.\n",
    "\n",
    "#     Args:\n",
    "#     - num_samples (int): The number of samples (time steps) for each wave.\n",
    "#     - num_bins (int): The number of different waves to generate.\n",
    "\n",
    "#     Returns:\n",
    "#     - pd.DataFrame: DataFrame containing amplitude arrays, period arrays, and waves.\n",
    "#     \"\"\"\n",
    "#     data = []\n",
    "#     for _ in range(4):\n",
    "#         amplitude = int(np.random.uniform(10,50))  # Random amplitude between 1 and 10\n",
    "#         period = int(np.random.uniform(10, 50))     # Random period between 1 and 10\n",
    "#         wave = generate_sinusoidal_wave(amplitude, period, num_bins)\n",
    "#         data.append({\n",
    "#             'amplitude': amplitude,\n",
    "#             'period': period,\n",
    "#             'wave': wave\n",
    "#         })\n",
    "\n",
    "#     # Convert list of dictionaries to DataFrame\n",
    "#     df = pd.DataFrame(data)\n",
    "#     df.to_csv('train_data_sine_synch.csv', index=False)\n",
    "#     return df"
   ]
  },
  {
   "cell_type": "code",
   "execution_count": 6,
   "metadata": {},
   "outputs": [],
   "source": [
    "# df = generate_training_data_local(50)"
   ]
  },
  {
   "cell_type": "code",
   "execution_count": 7,
   "metadata": {},
   "outputs": [],
   "source": [
    "# def generate_training_data_2(num_bins):\n",
    "#     \"\"\"\n",
    "#     Generates training data for the spiking neural network.\n",
    "\n",
    "#     Args:\n",
    "#     - num_samples (int): The number of samples (time steps) for each wave.\n",
    "#     - num_bins (int): The number of different waves to generate.\n",
    "\n",
    "#     Returns:\n",
    "#     - pd.DataFrame: DataFrame containing amplitude arrays, period arrays, and waves.\n",
    "#     \"\"\"\n",
    "#     data = []\n",
    "#     for _ in range(150):\n",
    "#         amplitude = int(np.random.uniform(10,50))  # Random amplitude between 1 and 10\n",
    "#         period = 40    # Random period between 1 and 10\n",
    "#         wave = generate_sinusoidal_wave(amplitude, period, num_bins)\n",
    "#         data.append({\n",
    "#             'amplitude': amplitude,\n",
    "#             'wave': wave\n",
    "#         })\n",
    "\n",
    "#     # Convert list of dictionaries to DataFrame\n",
    "#     df = pd.DataFrame(data)\n",
    "#     df.to_csv('train_data_sine_2.csv', index=False)\n",
    "#     return df"
   ]
  },
  {
   "cell_type": "code",
   "execution_count": 8,
   "metadata": {},
   "outputs": [],
   "source": [
    "# df = generate_training_data_2(100)"
   ]
  }
 ],
 "metadata": {
  "kernelspec": {
   "display_name": "Python 3.9.6 64-bit",
   "language": "python",
   "name": "python3"
  },
  "language_info": {
   "codemirror_mode": {
    "name": "ipython",
    "version": 3
   },
   "file_extension": ".py",
   "mimetype": "text/x-python",
   "name": "python",
   "nbconvert_exporter": "python",
   "pygments_lexer": "ipython3",
   "version": "3.9.6"
  },
  "orig_nbformat": 4,
  "vscode": {
   "interpreter": {
    "hash": "31f2aee4e71d21fbe5cf8b01ff0e069b9275f58929596ceb00d14d90e3e16cd6"
   }
  }
 },
 "nbformat": 4,
 "nbformat_minor": 2
}
