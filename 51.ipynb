{
 "cells": [
  {
   "cell_type": "code",
   "execution_count": null,
   "id": "d6ad0d1e",
   "metadata": {},
   "outputs": [],
   "source": [
    "'''\n",
    "Changing Amplitude (20-80)\n",
    "Changing Period (40-100)\n",
    "Loss: Task + rate loss. \n",
    "Noisy Input.\n",
    "'''"
   ]
  },
  {
   "cell_type": "code",
   "execution_count": 1,
   "id": "fd501689-2650-4b2c-96a6-865a3742b8cc",
   "metadata": {
    "tags": []
   },
   "outputs": [],
   "source": [
    "import os\n",
    "import torch\n",
    "import snntorch as snn\n",
    "import matplotlib.pyplot as plt\n",
    "from snntorch import surrogate\n",
    "from snntorch import spikegen\n",
    "from snntorch import functional\n",
    "from snntorch import LIF\n",
    "from snntorch import spikeplot as splt\n",
    "import pandas as pd\n",
    "import numpy as np\n",
    "from torch.utils.data import Dataset, DataLoader\n",
    "import math\n",
    "from warnings import warn\n",
    "import torch.nn as nn\n",
    "import csv"
   ]
  },
  {
   "cell_type": "code",
   "execution_count": 2,
   "id": "7989c757-6655-4194-9dad-2d29f6c3eb9d",
   "metadata": {
    "tags": []
   },
   "outputs": [],
   "source": [
    "from classes.Sine_Wave_Dataset import SineWave5\n",
    "from classes.Custom_Loss import CustomLoss_task_rate\n",
    "from classes import RSNN2,train1"
   ]
  },
  {
   "cell_type": "code",
   "execution_count": 3,
   "id": "2df1e422-a869-40cd-a02d-f6a8cfb10af4",
   "metadata": {
    "tags": []
   },
   "outputs": [
    {
     "name": "stdout",
     "output_type": "stream",
     "text": [
      "loss:  tensor(1289.5193, grad_fn=<AddBackward0>)\n",
      "tensor([[ 0.0000,  1.3002,  0.0000,  0.0000,  1.3002,  0.0000,  0.0000,  0.0000,\n",
      "          0.3898,  0.0000,  0.0000,  0.0000,  0.0275,  0.0000,  0.0000,  1.3002,\n",
      "          0.1601,  0.0000,  0.7495,  0.4544,  0.2972,  0.0000,  1.3002, -0.0139,\n",
      "          0.0000,  0.0000,  1.3002,  0.0000,  0.0076,  1.3002,  0.0000,  0.0000,\n",
      "          0.0000,  0.0000,  0.0000,  0.9221,  0.0169,  0.0000,  0.6989,  0.0000,\n",
      "          0.0000,  1.3002,  0.0000,  1.3002,  0.0000,  0.0000,  0.4509,  1.3002,\n",
      "          0.0000,  1.1046,  0.0000,  0.0000,  1.3002,  0.0000,  0.0000,  1.3002,\n",
      "          0.0000,  1.3002,  1.2692,  0.0000,  1.3002,  0.0000,  0.0000,  1.3002,\n",
      "          0.0000,  0.0288,  1.2065,  0.0000, -0.0030,  0.0000,  0.1526,  1.3002,\n",
      "          0.0000,  0.0000, -0.0705,  1.3002,  0.6741,  1.3002,  1.3002,  1.2517,\n",
      "          0.0000,  0.0000,  0.7376,  0.0000,  0.0000, -0.1358,  0.6441,  1.1225,\n",
      "          1.3002,  1.0071,  0.6089,  1.3002,  1.3002, -0.4134,  0.7507,  0.0000,\n",
      "          0.0000,  0.7274,  0.5870,  0.0363,  0.0000,  0.0000,  1.3002,  0.0000,\n",
      "          1.3002,  0.0000,  1.3002,  0.0000,  0.6777,  0.6689,  0.7770,  0.0000,\n",
      "          0.4708,  0.0000,  1.3002,  0.8991,  0.0000,  1.3002,  1.2216,  0.0000,\n",
      "          0.0000,  1.3002,  0.0000,  0.0000,  0.5882,  0.0209,  0.0000,  0.0000,\n",
      "          0.0000,  0.5669,  0.7436,  0.0000,  1.3002,  1.3002,  0.0000,  0.0000,\n",
      "         -0.0252,  0.0000,  0.3018,  1.0454,  0.0000,  0.0000,  0.0000,  1.3002,\n",
      "          1.3002,  0.0046,  0.0000,  0.0000,  0.0000,  0.5905,  1.3002, -0.0136,\n",
      "          1.3002,  1.3002,  0.8772, -0.0108,  0.0258,  1.3002, -0.0974,  0.0000,\n",
      "          1.3002,  1.3002,  0.4177,  1.3002,  0.0000,  0.0000,  0.6005,  0.0000,\n",
      "          0.2644,  0.0000,  0.0000,  1.3002,  0.0000,  0.0000,  0.0000,  0.0000,\n",
      "          1.3002,  0.0000,  1.2256,  0.0000,  0.2419,  0.0000,  0.0000,  0.0000,\n",
      "          0.0000,  0.0000,  0.6296,  0.0000,  0.0895,  0.0000,  0.4954,  0.0000,\n",
      "          0.0000,  0.0000,  0.0000,  1.3002,  0.0087,  0.8071,  0.0000,  0.1130]])\n"
     ]
    },
    {
     "ename": "KeyboardInterrupt",
     "evalue": "",
     "output_type": "error",
     "traceback": [
      "\u001b[0;31m---------------------------------------------------------------------------\u001b[0m",
      "\u001b[0;31mKeyboardInterrupt\u001b[0m                         Traceback (most recent call last)",
      "Cell \u001b[0;32mIn[3], line 9\u001b[0m\n\u001b[1;32m      6\u001b[0m num_epochs \u001b[38;5;241m=\u001b[39m \u001b[38;5;241m500\u001b[39m\n\u001b[1;32m      7\u001b[0m num_timesteps \u001b[38;5;241m=\u001b[39m \u001b[38;5;241m300\u001b[39m\n\u001b[0;32m----> 9\u001b[0m \u001b[43mtrain1\u001b[49m\u001b[38;5;241;43m.\u001b[39;49m\u001b[43mtrain_model\u001b[49m\u001b[43m(\u001b[49m\u001b[43m[\u001b[49m\u001b[43mnet_51\u001b[49m\u001b[43m,\u001b[49m\u001b[43m \u001b[49m\u001b[43moptimizer_51\u001b[49m\u001b[43m,\u001b[49m\u001b[43mdataloader5\u001b[49m\u001b[43m,\u001b[49m\u001b[38;5;241;43m5\u001b[39;49m\u001b[43m,\u001b[49m\u001b[43m \u001b[49m\u001b[43mloss_task_rate\u001b[49m\u001b[43m,\u001b[49m\u001b[43m \u001b[49m\u001b[38;5;241;43m1\u001b[39;49m\u001b[43m,\u001b[49m\u001b[43m \u001b[49m\u001b[38;5;241;43m500\u001b[39;49m\u001b[43m,\u001b[49m\u001b[43m \u001b[49m\u001b[43mnum_timesteps\u001b[49m\u001b[43m]\u001b[49m\u001b[43m)\u001b[49m\n",
      "File \u001b[0;32m/bigdata/rhome/iuaa2020/classes/train1.py:22\u001b[0m, in \u001b[0;36mtrain_model\u001b[0;34m(args)\u001b[0m\n\u001b[1;32m     19\u001b[0m firing_rate_per_batch \u001b[38;5;241m=\u001b[39m torch\u001b[38;5;241m.\u001b[39mempty(\u001b[38;5;241m0\u001b[39m, dtype\u001b[38;5;241m=\u001b[39mtorch\u001b[38;5;241m.\u001b[39mfloat32, requires_grad\u001b[38;5;241m=\u001b[39m\u001b[38;5;28;01mTrue\u001b[39;00m)\n\u001b[1;32m     21\u001b[0m \u001b[38;5;28;01mfor\u001b[39;00m \u001b[38;5;28minput\u001b[39m, target \u001b[38;5;129;01min\u001b[39;00m \u001b[38;5;28mzip\u001b[39m(inputs, targets):\n\u001b[0;32m---> 22\u001b[0m     output, spikes \u001b[38;5;241m=\u001b[39m \u001b[43mmodel\u001b[49m\u001b[43m(\u001b[49m\u001b[38;5;28;43minput\u001b[39;49m\u001b[43m)\u001b[49m\n\u001b[1;32m     23\u001b[0m     spikes \u001b[38;5;241m=\u001b[39m spikes\u001b[38;5;241m.\u001b[39mT\n\u001b[1;32m     24\u001b[0m     outputs \u001b[38;5;241m=\u001b[39m torch\u001b[38;5;241m.\u001b[39mcat((outputs, output\u001b[38;5;241m.\u001b[39mview(\u001b[38;5;241m1\u001b[39m, \u001b[38;5;241m-\u001b[39m\u001b[38;5;241m1\u001b[39m)))\n",
      "File \u001b[0;32m~/.conda/envs/rsnn_env/lib/python3.8/site-packages/torch/nn/modules/module.py:1532\u001b[0m, in \u001b[0;36mModule._wrapped_call_impl\u001b[0;34m(self, *args, **kwargs)\u001b[0m\n\u001b[1;32m   1530\u001b[0m     \u001b[38;5;28;01mreturn\u001b[39;00m \u001b[38;5;28mself\u001b[39m\u001b[38;5;241m.\u001b[39m_compiled_call_impl(\u001b[38;5;241m*\u001b[39margs, \u001b[38;5;241m*\u001b[39m\u001b[38;5;241m*\u001b[39mkwargs)  \u001b[38;5;66;03m# type: ignore[misc]\u001b[39;00m\n\u001b[1;32m   1531\u001b[0m \u001b[38;5;28;01melse\u001b[39;00m:\n\u001b[0;32m-> 1532\u001b[0m     \u001b[38;5;28;01mreturn\u001b[39;00m \u001b[38;5;28;43mself\u001b[39;49m\u001b[38;5;241;43m.\u001b[39;49m\u001b[43m_call_impl\u001b[49m\u001b[43m(\u001b[49m\u001b[38;5;241;43m*\u001b[39;49m\u001b[43margs\u001b[49m\u001b[43m,\u001b[49m\u001b[43m \u001b[49m\u001b[38;5;241;43m*\u001b[39;49m\u001b[38;5;241;43m*\u001b[39;49m\u001b[43mkwargs\u001b[49m\u001b[43m)\u001b[49m\n",
      "File \u001b[0;32m~/.conda/envs/rsnn_env/lib/python3.8/site-packages/torch/nn/modules/module.py:1541\u001b[0m, in \u001b[0;36mModule._call_impl\u001b[0;34m(self, *args, **kwargs)\u001b[0m\n\u001b[1;32m   1536\u001b[0m \u001b[38;5;66;03m# If we don't have any hooks, we want to skip the rest of the logic in\u001b[39;00m\n\u001b[1;32m   1537\u001b[0m \u001b[38;5;66;03m# this function, and just call forward.\u001b[39;00m\n\u001b[1;32m   1538\u001b[0m \u001b[38;5;28;01mif\u001b[39;00m \u001b[38;5;129;01mnot\u001b[39;00m (\u001b[38;5;28mself\u001b[39m\u001b[38;5;241m.\u001b[39m_backward_hooks \u001b[38;5;129;01mor\u001b[39;00m \u001b[38;5;28mself\u001b[39m\u001b[38;5;241m.\u001b[39m_backward_pre_hooks \u001b[38;5;129;01mor\u001b[39;00m \u001b[38;5;28mself\u001b[39m\u001b[38;5;241m.\u001b[39m_forward_hooks \u001b[38;5;129;01mor\u001b[39;00m \u001b[38;5;28mself\u001b[39m\u001b[38;5;241m.\u001b[39m_forward_pre_hooks\n\u001b[1;32m   1539\u001b[0m         \u001b[38;5;129;01mor\u001b[39;00m _global_backward_pre_hooks \u001b[38;5;129;01mor\u001b[39;00m _global_backward_hooks\n\u001b[1;32m   1540\u001b[0m         \u001b[38;5;129;01mor\u001b[39;00m _global_forward_hooks \u001b[38;5;129;01mor\u001b[39;00m _global_forward_pre_hooks):\n\u001b[0;32m-> 1541\u001b[0m     \u001b[38;5;28;01mreturn\u001b[39;00m \u001b[43mforward_call\u001b[49m\u001b[43m(\u001b[49m\u001b[38;5;241;43m*\u001b[39;49m\u001b[43margs\u001b[49m\u001b[43m,\u001b[49m\u001b[43m \u001b[49m\u001b[38;5;241;43m*\u001b[39;49m\u001b[38;5;241;43m*\u001b[39;49m\u001b[43mkwargs\u001b[49m\u001b[43m)\u001b[49m\n\u001b[1;32m   1543\u001b[0m \u001b[38;5;28;01mtry\u001b[39;00m:\n\u001b[1;32m   1544\u001b[0m     result \u001b[38;5;241m=\u001b[39m \u001b[38;5;28;01mNone\u001b[39;00m\n",
      "File \u001b[0;32m/bigdata/rhome/iuaa2020/classes/RSNN2.py:51\u001b[0m, in \u001b[0;36mRSNN2.forward\u001b[0;34m(self, inputs)\u001b[0m\n\u001b[1;32m     49\u001b[0m cur1 \u001b[38;5;241m=\u001b[39m \u001b[38;5;28mself\u001b[39m\u001b[38;5;241m.\u001b[39ml1(cur_input)\n\u001b[1;32m     50\u001b[0m spk1,mem1 \u001b[38;5;241m=\u001b[39m \u001b[38;5;28mself\u001b[39m\u001b[38;5;241m.\u001b[39mrlif1(cur1, spk1, mem1)\n\u001b[0;32m---> 51\u001b[0m cur2 \u001b[38;5;241m=\u001b[39m \u001b[38;5;28;43mself\u001b[39;49m\u001b[38;5;241;43m.\u001b[39;49m\u001b[43ml2\u001b[49m(spk1)\n\u001b[1;32m     53\u001b[0m \u001b[38;5;28mself\u001b[39m\u001b[38;5;241m.\u001b[39mspk1_rec\u001b[38;5;241m.\u001b[39mappend(spk1)\n\u001b[1;32m     54\u001b[0m \u001b[38;5;28mself\u001b[39m\u001b[38;5;241m.\u001b[39mcur2_rec\u001b[38;5;241m.\u001b[39mappend(cur2)\n",
      "File \u001b[0;32m~/.conda/envs/rsnn_env/lib/python3.8/site-packages/torch/nn/modules/module.py:1696\u001b[0m, in \u001b[0;36mModule.__getattr__\u001b[0;34m(self, name)\u001b[0m\n\u001b[1;32m   1687\u001b[0m         \u001b[38;5;28mself\u001b[39m\u001b[38;5;241m.\u001b[39m_backward_pre_hooks \u001b[38;5;241m=\u001b[39m OrderedDict()\n\u001b[1;32m   1689\u001b[0m \u001b[38;5;66;03m# On the return type:\u001b[39;00m\n\u001b[1;32m   1690\u001b[0m \u001b[38;5;66;03m# We choose to return `Any` in the `__getattr__` type signature instead of a more strict `Union[Tensor, Module]`.\u001b[39;00m\n\u001b[1;32m   1691\u001b[0m \u001b[38;5;66;03m# This is done for better interop with various type checkers for the end users.\u001b[39;00m\n\u001b[0;32m   (...)\u001b[0m\n\u001b[1;32m   1694\u001b[0m \u001b[38;5;66;03m# See full discussion on the problems with returning `Union` here\u001b[39;00m\n\u001b[1;32m   1695\u001b[0m \u001b[38;5;66;03m# https://github.com/microsoft/pyright/issues/4213\u001b[39;00m\n\u001b[0;32m-> 1696\u001b[0m \u001b[38;5;28;01mdef\u001b[39;00m \u001b[38;5;21m__getattr__\u001b[39m(\u001b[38;5;28mself\u001b[39m, name: \u001b[38;5;28mstr\u001b[39m) \u001b[38;5;241m-\u001b[39m\u001b[38;5;241m>\u001b[39m Any:\n\u001b[1;32m   1697\u001b[0m     \u001b[38;5;28;01mif\u001b[39;00m \u001b[38;5;124m'\u001b[39m\u001b[38;5;124m_parameters\u001b[39m\u001b[38;5;124m'\u001b[39m \u001b[38;5;129;01min\u001b[39;00m \u001b[38;5;28mself\u001b[39m\u001b[38;5;241m.\u001b[39m\u001b[38;5;18m__dict__\u001b[39m:\n\u001b[1;32m   1698\u001b[0m         _parameters \u001b[38;5;241m=\u001b[39m \u001b[38;5;28mself\u001b[39m\u001b[38;5;241m.\u001b[39m\u001b[38;5;18m__dict__\u001b[39m[\u001b[38;5;124m'\u001b[39m\u001b[38;5;124m_parameters\u001b[39m\u001b[38;5;124m'\u001b[39m]\n",
      "\u001b[0;31mKeyboardInterrupt\u001b[0m: "
     ]
    }
   ],
   "source": [
    "dataset5 = SineWave5.SineWaveDataset5('train_data/train_data_sine_hpc.csv')\n",
    "dataloader5 = DataLoader(dataset5, batch_size=25, shuffle=True)\n",
    "loss_task_rate = CustomLoss_task_rate.CustomLoss_task_rate()\n",
    "net_51 = RSNN2.RSNN2()\n",
    "optimizer_51 = torch.optim.Adam(net_51.parameters(),lr=0.03)\n",
    "num_epochs = 500\n",
    "num_timesteps = 300\n",
    "\n",
    "train1.train_model([net_51, optimizer_51,dataloader5,5, loss_task_rate, 1, 500, num_timesteps])\n",
    "\n",
    "\n",
    "\n"
   ]
  },
  {
   "cell_type": "code",
   "execution_count": null,
   "id": "78784a09-2b40-4f94-b837-cdd9be6e5539",
   "metadata": {},
   "outputs": [],
   "source": []
  }
 ],
 "metadata": {
  "kernelspec": {
   "display_name": "Python 3.9.6 64-bit",
   "language": "python",
   "name": "python3"
  },
  "language_info": {
   "codemirror_mode": {
    "name": "ipython",
    "version": 3
   },
   "file_extension": ".py",
   "mimetype": "text/x-python",
   "name": "python",
   "nbconvert_exporter": "python",
   "pygments_lexer": "ipython3",
   "version": "3.9.6"
  },
  "vscode": {
   "interpreter": {
    "hash": "31f2aee4e71d21fbe5cf8b01ff0e069b9275f58929596ceb00d14d90e3e16cd6"
   }
  }
 },
 "nbformat": 4,
 "nbformat_minor": 5
}
