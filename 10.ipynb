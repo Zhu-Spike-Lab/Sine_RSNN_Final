{
 "cells": [
  {
   "cell_type": "code",
   "execution_count": null,
   "id": "00b9f508",
   "metadata": {},
   "outputs": [],
   "source": [
    "'''Sine Wave Task with:\n",
    "Changing Amplitude (20-80)\n",
    "Constant Period = 80\n",
    "Clock-like Input\n",
    "Loss: CustomLoss_task\n",
    "'''"
   ]
  },
  {
   "cell_type": "code",
   "execution_count": 4,
   "id": "fd501689-2650-4b2c-96a6-865a3742b8cc",
   "metadata": {
    "tags": []
   },
   "outputs": [],
   "source": [
    "import os\n",
    "import torch\n",
    "import snntorch as snn\n",
    "import matplotlib.pyplot as plt\n",
    "from snntorch import surrogate\n",
    "from snntorch import spikegen\n",
    "from snntorch import functional\n",
    "from snntorch import LIF\n",
    "from snntorch import spikeplot as splt\n",
    "import pandas as pd\n",
    "import numpy as np\n",
    "from torch.utils.data import Dataset, DataLoader\n",
    "import math\n",
    "from warnings import warn\n",
    "import torch.nn as nn\n",
    "import csv"
   ]
  },
  {
   "cell_type": "code",
   "execution_count": 5,
   "id": "7989c757-6655-4194-9dad-2d29f6c3eb9d",
   "metadata": {
    "tags": []
   },
   "outputs": [],
   "source": [
    "from classes.Sine_Wave_Dataset import SineWave1\n",
    "from classes.Custom_Loss import CustomLoss_task\n",
    "from classes import RSNN3,train1"
   ]
  },
  {
   "cell_type": "code",
   "execution_count": 3,
   "id": "2df1e422-a869-40cd-a02d-f6a8cfb10af4",
   "metadata": {
    "tags": []
   },
   "outputs": [
    {
     "ename": "NameError",
     "evalue": "name 'DataLoader' is not defined",
     "output_type": "error",
     "traceback": [
      "\u001b[0;31m---------------------------------------------------------------------------\u001b[0m",
      "\u001b[0;31mNameError\u001b[0m                                 Traceback (most recent call last)",
      "Cell \u001b[0;32mIn[3], line 2\u001b[0m\n\u001b[1;32m      1\u001b[0m dataset1 \u001b[38;5;241m=\u001b[39m SineWave1\u001b[38;5;241m.\u001b[39mSineWaveDataset1(\u001b[38;5;124m'\u001b[39m\u001b[38;5;124mtrain_data/train_data_sine_hpc.csv\u001b[39m\u001b[38;5;124m'\u001b[39m)\n\u001b[0;32m----> 2\u001b[0m dataloader1 \u001b[38;5;241m=\u001b[39m \u001b[43mDataLoader\u001b[49m(dataset1, batch_size\u001b[38;5;241m=\u001b[39m\u001b[38;5;241m25\u001b[39m, shuffle\u001b[38;5;241m=\u001b[39m\u001b[38;5;28;01mTrue\u001b[39;00m)\n\u001b[1;32m      3\u001b[0m loss_task \u001b[38;5;241m=\u001b[39m CustomLoss_task\u001b[38;5;241m.\u001b[39mCustomLoss_task()\n\u001b[1;32m      4\u001b[0m net_10 \u001b[38;5;241m=\u001b[39m RSNN2\u001b[38;5;241m.\u001b[39mRSNN2()\n",
      "\u001b[0;31mNameError\u001b[0m: name 'DataLoader' is not defined"
     ]
    }
   ],
   "source": [
    "# SineWave1 creates the dataset with input (Changing Amplitude, Changing Period, Clock-like Input)\n",
    "# Output (Sine wave)\n",
    "dataset1 = SineWave1.SineWaveDataset1('train_data/train_data_sine_hpc.csv')\n",
    "dataloader1 = DataLoader(dataset1, batch_size=25, shuffle=True)\n",
    "\n",
    "loss_task = CustomLoss_task.CustomLoss_task()\n",
    "net_10 = RSNN3.RSNN3()\n",
    "optimizer_10 = torch.optim.Adam(net_10.parameters(),lr=0.03)\n",
    "\n",
    "num_epochs = 500\n",
    "num_timesteps = 300\n",
    "\n",
    "train1.train_model([net_10, optimizer_10,dataloader1,1, loss_task, 0, 500, num_timesteps])\n",
    "\n",
    "\n",
    "\n"
   ]
  },
  {
   "cell_type": "code",
   "execution_count": null,
   "id": "78784a09-2b40-4f94-b837-cdd9be6e5539",
   "metadata": {},
   "outputs": [],
   "source": []
  }
 ],
 "metadata": {
  "kernelspec": {
   "display_name": "Python 3.9.6 64-bit",
   "language": "python",
   "name": "python3"
  },
  "language_info": {
   "codemirror_mode": {
    "name": "ipython",
    "version": 3
   },
   "file_extension": ".py",
   "mimetype": "text/x-python",
   "name": "python",
   "nbconvert_exporter": "python",
   "pygments_lexer": "ipython3",
   "version": "3.9.6"
  },
  "vscode": {
   "interpreter": {
    "hash": "31f2aee4e71d21fbe5cf8b01ff0e069b9275f58929596ceb00d14d90e3e16cd6"
   }
  }
 },
 "nbformat": 4,
 "nbformat_minor": 5
}
