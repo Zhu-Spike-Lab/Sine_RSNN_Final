{
 "cells": [
  {
   "cell_type": "code",
   "execution_count": null,
   "id": "acea972b",
   "metadata": {},
   "outputs": [],
   "source": [
    "'''Sine Wave Task with:\n",
    "Changing Amplitude (20-80)\n",
    "Clock-like Input\n",
    "(Period=80, not provided to input)\n",
    "Loss: CustomLoss_task\n",
    "'''"
   ]
  },
  {
   "cell_type": "code",
   "execution_count": 4,
   "id": "fd501689-2650-4b2c-96a6-865a3742b8cc",
   "metadata": {
    "tags": []
   },
   "outputs": [],
   "source": [
    "import os\n",
    "\n",
    "import torch\n",
    "from torch.utils.data import Dataset, DataLoader\n",
    "import torch.nn as nn\n",
    "\n",
    "import snntorch as snn\n",
    "from snntorch import surrogate\n",
    "from snntorch import spikegen\n",
    "from snntorch import functional\n",
    "from snntorch import LIF\n",
    "from snntorch import spikeplot as splt\n",
    "\n",
    "import pandas as pd\n",
    "import numpy as np\n",
    "import matplotlib.pyplot as plt\n",
    "import math\n",
    "from warnings import warn\n",
    "import csv"
   ]
  },
  {
   "cell_type": "code",
   "execution_count": 5,
   "id": "7989c757-6655-4194-9dad-2d29f6c3eb9d",
   "metadata": {
    "tags": []
   },
   "outputs": [],
   "source": [
    "# SineWave0 creates the dataset with input (Changing Amplitude, Clock-like Input)\n",
    "# Output (Sine wave)\n",
    "from classes.Sine_Wave_Dataset import SineWave0\n",
    "from classes.Custom_Loss import CustomLoss_task\n",
    "from classes import RSNN2,train1"
   ]
  },
  {
   "cell_type": "code",
   "execution_count": null,
   "id": "2df1e422-a869-40cd-a02d-f6a8cfb10af4",
   "metadata": {
    "tags": []
   },
   "outputs": [
    {
     "name": "stdout",
     "output_type": "stream",
     "text": [
      "loss:  tensor(1127.3727, grad_fn=<MulBackward0>)\n",
      "loss:  tensor(1275.5718, grad_fn=<MulBackward0>)\n",
      "loss:  tensor(1335.0732, grad_fn=<MulBackward0>)\n",
      "loss:  tensor(1738.6792, grad_fn=<MulBackward0>)\n"
     ]
    }
   ],
   "source": [
    "dataset0 = SineWave0.SineWaveDataset0('train_data/train_data_const_period.csv')\n",
    "dataloader0 = DataLoader(dataset0, batch_size=25, shuffle=True)\n",
    "loss_task = CustomLoss_task.CustomLoss_task()\n",
    "\n",
    "net_01 = RSNN2.RSNN2()\n",
    "optimizer_01 = torch.optim.Adam(net_01.parameters(),lr=0.03)\n",
    "\n",
    "num_epochs = 500\n",
    "num_timesteps = 300\n",
    "\n",
    "train1.train_model([net_01, optimizer_01,dataloader0,0, loss_task, 1, 500, num_timesteps])\n",
    "\n",
    "\n",
    "\n"
   ]
  }
 ],
 "metadata": {
  "kernelspec": {
   "display_name": "Python 3.9.6 64-bit",
   "language": "python",
   "name": "python3"
  },
  "language_info": {
   "codemirror_mode": {
    "name": "ipython",
    "version": 3
   },
   "file_extension": ".py",
   "mimetype": "text/x-python",
   "name": "python",
   "nbconvert_exporter": "python",
   "pygments_lexer": "ipython3",
   "version": "3.9.6"
  },
  "vscode": {
   "interpreter": {
    "hash": "31f2aee4e71d21fbe5cf8b01ff0e069b9275f58929596ceb00d14d90e3e16cd6"
   }
  }
 },
 "nbformat": 4,
 "nbformat_minor": 5
}
