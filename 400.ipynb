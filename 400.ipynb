{
 "cells": [
  {
   "cell_type": "code",
   "execution_count": null,
   "id": "fd7b28c6",
   "metadata": {},
   "outputs": [],
   "source": [
    "'''Changing Amplitude (20-80)\n",
    "Changing Period (40-100)\n",
    "Clock-like input\n",
    "Loss: Task loss. \n",
    "Limited time input.\n",
    "'''"
   ]
  },
  {
   "cell_type": "code",
   "execution_count": 1,
   "id": "fd501689-2650-4b2c-96a6-865a3742b8cc",
   "metadata": {
    "tags": []
   },
   "outputs": [],
   "source": [
    "import os\n",
    "import torch\n",
    "import snntorch as snn\n",
    "import matplotlib.pyplot as plt\n",
    "from snntorch import surrogate\n",
    "from snntorch import spikegen\n",
    "from snntorch import functional\n",
    "from snntorch import LIF\n",
    "from snntorch import spikeplot as splt\n",
    "import pandas as pd\n",
    "import numpy as np\n",
    "from torch.utils.data import Dataset, DataLoader\n",
    "import math\n",
    "from warnings import warn\n",
    "import torch.nn as nn\n",
    "import csv"
   ]
  },
  {
   "cell_type": "code",
   "execution_count": 2,
   "id": "7989c757-6655-4194-9dad-2d29f6c3eb9d",
   "metadata": {
    "tags": []
   },
   "outputs": [],
   "source": [
    "from classes.Sine_Wave_Dataset import SineWave400\n",
    "from classes.Custom_Loss import CustomLoss_task\n",
    "from classes import RSNN3,train1"
   ]
  },
  {
   "cell_type": "code",
   "execution_count": null,
   "id": "2df1e422-a869-40cd-a02d-f6a8cfb10af4",
   "metadata": {
    "tags": []
   },
   "outputs": [
    {
     "name": "stdout",
     "output_type": "stream",
     "text": [
      "loss:  tensor(1120.9119, grad_fn=<MseLossBackward0>)\n",
      "loss:  tensor(1348.0039, grad_fn=<MseLossBackward0>)\n",
      "loss:  tensor(1375.6403, grad_fn=<MseLossBackward0>)\n",
      "loss:  tensor(1302.6997, grad_fn=<MseLossBackward0>)\n",
      "loss:  tensor(1512.6697, grad_fn=<MseLossBackward0>)\n",
      "loss:  tensor(1470.1455, grad_fn=<MseLossBackward0>)\n",
      "loss:  tensor(1365.3929, grad_fn=<MseLossBackward0>)\n",
      "loss:  tensor(1253.4419, grad_fn=<MseLossBackward0>)\n",
      "loss:  tensor(1199.1532, grad_fn=<MseLossBackward0>)\n"
     ]
    }
   ],
   "source": [
    "dataset400 = SineWave400.SineWaveDataset400('train_data/train_data_sine_hpc.csv')\n",
    "dataloader400 = DataLoader(dataset400, batch_size=25, shuffle=True)\n",
    "loss_task = CustomLoss_task.CustomLoss_task()\n",
    "net_400 = RSNN3.RSNN3()\n",
    "optimizer_400 = torch.optim.Adam(net_400.parameters(),lr=0.03)\n",
    "num_epochs = 1000\n",
    "num_timesteps = 300\n",
    "\n",
    "train1.train_model([net_400, optimizer_400,dataloader400,400, loss_task, 0, 500, num_timesteps])\n",
    "\n",
    "\n",
    "\n"
   ]
  }
 ],
 "metadata": {
  "kernelspec": {
   "display_name": "Python 3.9.6 64-bit",
   "language": "python",
   "name": "python3"
  },
  "language_info": {
   "codemirror_mode": {
    "name": "ipython",
    "version": 3
   },
   "file_extension": ".py",
   "mimetype": "text/x-python",
   "name": "python",
   "nbconvert_exporter": "python",
   "pygments_lexer": "ipython3",
   "version": "3.9.6"
  },
  "vscode": {
   "interpreter": {
    "hash": "31f2aee4e71d21fbe5cf8b01ff0e069b9275f58929596ceb00d14d90e3e16cd6"
   }
  }
 },
 "nbformat": 4,
 "nbformat_minor": 5
}
