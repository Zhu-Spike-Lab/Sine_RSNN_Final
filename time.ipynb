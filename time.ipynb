{
 "cells": [
  {
   "cell_type": "code",
   "execution_count": 1,
   "metadata": {},
   "outputs": [
    {
     "name": "stdout",
     "output_type": "stream",
     "text": [
      "0 _loss: tensor(1205.8199, grad_fn=<MulBackward0>)\n",
      "1 _loss: tensor(1380.3745, grad_fn=<MulBackward0>)\n",
      "2 _loss: tensor(1513.1718, grad_fn=<MulBackward0>)\n",
      "3 _loss: tensor(1512.7125, grad_fn=<MulBackward0>)\n",
      "Epoch0_complete\n",
      "0 _loss: tensor(1360.7899, grad_fn=<MulBackward0>)\n",
      "1 _loss: tensor(1416.2635, grad_fn=<MulBackward0>)\n",
      "2 _loss: tensor(1480.8453, grad_fn=<MulBackward0>)\n",
      "3 _loss: tensor(1283.0834, grad_fn=<MulBackward0>)\n",
      "Epoch1_complete\n"
     ]
    }
   ],
   "source": [
    "import csv\n",
    "import timeit\n",
    "import glob\n",
    "import torch\n",
    "import torch.nn as nn\n",
    "import snntorch as snn\n",
    "from classes.Sine_Wave_Dataset import SineWave0\n",
    "from classes.Custom_Loss import CustomLoss_all,CustomLoss_task\n",
    "from classes.RSNN2 import RSNN2\n",
    "from torch.utils.data import Dataset, DataLoader\n",
    "from classes.helper1 import simple_branching_param, fano_factor\n",
    "\n",
    "loss_task = CustomLoss_task.CustomLoss_task()\n",
    "\n",
    "dataset0 = SineWave0.SineWaveDataset0('train_data/train_data_sine_hpc0C.csv')\n",
    "dataloader0 = DataLoader(dataset0, batch_size=25, shuffle=True)\n",
    "\n",
    "net = RSNN2()\n",
    "\n",
    "    # optimizer = torch.optim.Adam(filter(lambda p: p.requires_grad, net.parameters()),lr=0.1)\n",
    "optimizer = torch.optim.Adam( net.parameters(),lr=0.02)\n",
    "num_epochs = 2\n",
    "#implement sparsity\n",
    "sparsity_list = []\n",
    "num_timesteps = 300\n",
    "\n",
    "weights = net.rlif1.recurrent.weight.data\n",
    "\n",
    "loss_list = []\n",
    "synch_list = []\n",
    "rate_list = []\n",
    "crit_list = []\n",
    "c = 0\n",
    "\n",
    "for epoch in range(num_epochs):\n",
    "    mse_epoch_loss = 0\n",
    "    rate_epoch_loss = 0\n",
    "    synchrony_epoch_loss = 0\n",
    "    criticality_epoch_loss = 0\n",
    "\n",
    "    for i, (inputs, targets) in enumerate(dataloader0):\n",
    "        inputs, targets = inputs, targets\n",
    "        optimizer.zero_grad()\n",
    "\n",
    "        outputs = torch.empty(0,dtype=torch.float32,requires_grad=True)\n",
    "        firing_rate_per_batch = torch.empty(0,dtype=torch.float32,requires_grad=True)\n",
    "        criticality_per_batch = torch.empty(0,dtype=torch.float32,requires_grad=True)\n",
    "        synchrony_per_batch = torch.empty(0,dtype=torch.float32,requires_grad=True)\n",
    "\n",
    "        for input,target in zip(inputs, targets):\n",
    "\n",
    "            output, spikes = net(input)\n",
    "            # time_forward_network.append(timeit.default_timer() - start_forward)\n",
    "\n",
    "            spikes = spikes.T\n",
    "            outputs = torch.cat((outputs, output.view(1, -1)))\n",
    "\n",
    "            if c==0:\n",
    "                net.naive_spikes= spikes\n",
    "                net.naive_output = outputs\n",
    "                net.naive_targets= targets\n",
    "                c+=1\n",
    "\n",
    "            # 2. Firing Rate\n",
    "            firing_rate = torch.sum(spikes) / torch.tensor(100000,dtype=torch.int)\n",
    "            firing_rate = firing_rate.reshape([1])\n",
    "            firing_rate_per_batch = torch.cat((firing_rate_per_batch, firing_rate))\n",
    "\n",
    "            \n",
    "            # 3. Criticality\n",
    "            criticality = simple_branching_param(1, spikes)\n",
    "            criticality = criticality.reshape([1])\n",
    "            criticality_per_batch= torch.cat((criticality_per_batch, criticality))\n",
    "            \n",
    "            # 4. Synchrony -- Fano Factor\n",
    "            synchrony_fano_factor = fano_factor(num_timesteps, spikes)\n",
    "            synchrony_fano_factor = synchrony_fano_factor.reshape([1])\n",
    "            synchrony_per_batch = torch.cat((synchrony_per_batch,synchrony_fano_factor))\n",
    "\n",
    "            \n",
    "\n",
    "        loss = loss_task(outputs, targets, criticality_per_batch, firing_rate_per_batch, synchrony_per_batch)\n",
    "        \n",
    "        print(i,\"_loss:\",loss)\n",
    "        loss.backward()\n",
    "        zero_idxs = torch.where(weights == 0, 1, 0)  # Create a matrix to identify where zeroes are initialized in weight matrix\n",
    "        optimizer.step()\n",
    "\n",
    "        weights[zero_idxs==True] = 0\n",
    "        net.positive_negative_weights()\n",
    "\n",
    "    # start_save = timeit.default_timer()\n",
    "    # Save accumulated data to an npz file\n",
    "    # np.savez(f'data/level{step_dataloader + 1}_loss{criterium}_epoch{epoch}.npz',\n",
    "    #     batch_loss=batch_loss_list,\n",
    "    #         task_batch_loss=task_batch_loss_list,\n",
    "    #         rate_batch_loss=rate_batch_loss_list,\n",
    "    #         synchrony_batch_loss=synchrony_batch_loss_list,\n",
    "    #         criticality_batch_loss=criticality_batch_loss_list,\n",
    "    #         spikes=spikes_list,\n",
    "    #         input_weights=input_weights_list,\n",
    "    #         rec_weights=rec_weights_list,\n",
    "    #         output_weights=output_weights_list,\n",
    "    #         inputs=inputs_list,\n",
    "    #         outputs=outputs_list,\n",
    "    #         targets=targets_list)\n",
    "\n",
    "    # time_save.append(timeit.default_timer() - start_save)\n",
    "    print(f'Epoch{epoch}_complete')"
   ]
  },
  {
   "cell_type": "code",
   "execution_count": 3,
   "metadata": {},
   "outputs": [
    {
     "name": "stdout",
     "output_type": "stream",
     "text": [
      "torch.Size([300, 200])\n"
     ]
    },
    {
     "data": {
      "image/png": "[encoded data removed]",
      "text/plain": [
       "<Figure size 1000x500 with 1 Axes>"
      ]
     },
     "metadata": {},
     "output_type": "display_data"
    }
   ],
   "source": [
    "import numpy as np\n",
    "import matplotlib.pyplot as plt\n",
    "import torch\n",
    "from snntorch import spikeplot as splt\n",
    "import os\n",
    "\n",
    "print(net.spk1_rec.shape)\n",
    "spikes = net.spk1_rec.T\n",
    "\n",
    "plt.figure(figsize=(10, 5))\n",
    "for neuron, spike_train in enumerate(spikes):\n",
    "    spike_times = np.where(spike_train > 0)[0]  # Assuming spikes are indicated by positive values\n",
    "    plt.vlines(spike_times, neuron + 0.5, neuron + 1.5)\n",
    "\n",
    "plt.title(f'Raster Plot of Spikes\\nEpoch {epoch}')\n",
    "plt.xlabel('Time')\n",
    "plt.ylabel('Neuron Index')\n",
    "plt.show()"
   ]
  }
 ],
 "metadata": {
  "kernelspec": {
   "display_name": "Python 3.9.6 64-bit",
   "language": "python",
   "name": "python3"
  },
  "language_info": {
   "codemirror_mode": {
    "name": "ipython",
    "version": 3
   },
   "file_extension": ".py",
   "mimetype": "text/x-python",
   "name": "python",
   "nbconvert_exporter": "python",
   "pygments_lexer": "ipython3",
   "version": "3.9.6"
  },
  "orig_nbformat": 4,
  "vscode": {
   "interpreter": {
    "hash": "31f2aee4e71d21fbe5cf8b01ff0e069b9275f58929596ceb00d14d90e3e16cd6"
   }
  }
 },
 "nbformat": 4,
 "nbformat_minor": 2
}
